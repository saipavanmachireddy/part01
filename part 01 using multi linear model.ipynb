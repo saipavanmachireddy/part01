{
 "cells": [
  {
   "cell_type": "code",
   "execution_count": null,
   "metadata": {},
   "outputs": [
    {
     "name": "stdout",
     "output_type": "stream",
     "text": [
      "          people_ID      Children      cases/1M     Deaths/1M           Age  \\\n",
      "count  10714.000000  10403.000000  10714.000000  10714.000000  10714.000000   \n",
      "mean   10084.893784      1.062770      3.285888      0.523241     42.083722   \n",
      "std     7108.663645      0.818222      2.721274      0.854303     15.323397   \n",
      "min        1.000000      0.000000      1.000000      0.000000     16.000000   \n",
      "25%     2679.250000      0.000000      2.000000      0.000000     29.000000   \n",
      "50%    10003.500000      1.000000      2.000000      0.000000     42.000000   \n",
      "75%    15141.750000      2.000000      4.000000      1.000000     55.000000   \n",
      "max    22695.000000      2.000000      8.000000      2.000000     68.000000   \n",
      "\n",
      "         Coma score     Diuresis    Platelets           HBB      d-dimer  \\\n",
      "count  10714.000000  9998.000000  9790.000000  10698.000000  9600.000000   \n",
      "mean       9.013067   278.806261    87.795812    116.170967   275.292292   \n",
      "std        3.714970    97.985526    41.851103     55.178811    43.669692   \n",
      "min        3.000000   110.000000    15.000000     20.000000   200.000000   \n",
      "25%        6.000000   194.000000    52.000000     68.000000   237.000000   \n",
      "50%        9.000000   276.000000    88.000000    117.000000   276.000000   \n",
      "75%       12.000000   364.000000   124.000000    165.000000   313.000000   \n",
      "max       15.000000   450.000000   160.000000    210.000000   350.000000   \n",
      "\n",
      "        Heart rate  HDL cholesterol  Charlson Index  Blood Glucose  \\\n",
      "count  9600.000000     10679.000000    10714.000000   10714.000000   \n",
      "mean     74.847396        52.632737       20.028094       5.015027   \n",
      "std      14.869104        10.434293       11.828445       1.399770   \n",
      "min      50.000000        35.000000        0.000000       3.000000   \n",
      "25%      62.000000        44.000000       10.000000       4.000000   \n",
      "50%      75.000000        53.000000       20.000000       5.000000   \n",
      "75%      88.000000        62.000000       30.000000       6.000000   \n",
      "max     100.000000        70.000000       40.000000       7.000000   \n",
      "\n",
      "          Insurance        salary     FT/month   Infect_Prob  \n",
      "count  9.624000e+03  1.071400e+04  9991.000000  10714.000000  \n",
      "mean   2.644919e+06  1.304713e+06     1.004604     52.280680  \n",
      "std    1.383346e+06  6.075947e+05     0.815257     10.674667  \n",
      "min    3.000000e+05  3.000000e+05     0.000000     29.289600  \n",
      "25%    1.400000e+06  8.000000e+05     0.000000     47.277426  \n",
      "50%    2.600000e+06  1.300000e+06     1.000000     49.008389  \n",
      "75%    3.800000e+06  1.800000e+06     2.000000     52.762313  \n",
      "max    5.000000e+06  2.300000e+06     2.000000     97.632000  \n"
     ]
    }
   ],
   "source": [
    "import pandas as pd\n",
    "import matplotlib.pyplot as plt\n",
    "import numpy as np\n",
    "from sklearn.metrics import mean_squared_error, r2_score\n",
    "from sklearn.model_selection import train_test_split\n",
    "from sklearn import linear_model\n",
    "\n",
    "df = pd.read_csv(\"./Train_dataset.csv\")\n",
    "\n",
    "print(df.describe())\n",
    "\n",
    "\n",
    "df.dropna(subset = [\"Children\"], inplace=True)\n",
    "\n",
    "df.dropna(subset = [\"Diuresis\"], inplace=True)\n",
    "df.dropna(subset = [\"Platelets\"], inplace=True)\n",
    "df.dropna(subset = [\"HBB\"], inplace=True)\n",
    "df.dropna(subset = [\"d-dimer\"], inplace=True)\n",
    "df.dropna(subset = [\"Heart rate\"], inplace=True)\n",
    "df.dropna(subset = [\"HDL cholesterol\"], inplace=True)\n",
    "df.dropna(subset = [\"Insurance\"], inplace=True)\n",
    "df.dropna(subset = [\"FT/month\"], inplace=True)\n",
    "df.dropna(subset = [\"Infect_Prob\"], inplace=True)\n",
    "\n",
    "\n",
    "X = df.iloc[:,df.columns != 'Infect_Prob']\n",
    "Y = df.iloc[:, 27]\n",
    "X=pd.get_dummies(X)\n",
    "X_train, X_test, Y_train, Y_test = train_test_split(X, Y, test_size=0.2, random_state= 0)\n",
    "\n",
    "model = linear_model.LinearRegression()\n",
    "model.fit(X_train, Y_train)\n",
    "\n",
    "coeff_df = pd.DataFrame(model.coef_, X.columns, columns=['Coefficient'])\n",
    "print(coeff_df)\n",
    "\n",
    "y_pred = model.predict(X_test)\n",
    "df = pd.DataFrame({'Actual': Y_test, 'Predicted': y_pred})\n",
    "print(df.head(10))\n",
    "\n",
    "df.plot(kind='bar',figsize=(10,8))\n",
    "plt.grid(which='major', linestyle='-', linewidth='0.5', color='green')\n",
    "plt.grid(which='minor', linestyle=':', linewidth='0.5', color='black')\n",
    "plt.show()\n",
    "\n",
    "# Root Mean Squared Deviation\n",
    "rmsd = np.sqrt(mean_squared_error(Y_test, y_pred))      # Lower the rmse(rmsd) is, the better the fit\n",
    "r2_value = r2_score(Y_test, y_pred)                     # The closer towards 1, the better the fit\n",
    "\n",
    "print(\"Y-Intercept: \\n\", model.intercept_)\n",
    "print(\"Root Mean Square Error(rmsd) \\n\", rmsd)\n",
    "print(\"R^2 Value: \\n\", r2_value)\n",
    "\n",
    "\n"
   ]
  },
  {
   "cell_type": "code",
   "execution_count": 100,
   "metadata": {},
   "outputs": [
    {
     "name": "stdout",
     "output_type": "stream",
     "text": [
      "          people_ID      Children      cases/1M     Deaths/1M           Age  \\\n",
      "count  10714.000000  10403.000000  10714.000000  10714.000000  10714.000000   \n",
      "mean   10084.893784      1.062770      3.285888      0.523241     42.083722   \n",
      "std     7108.663645      0.818222      2.721274      0.854303     15.323397   \n",
      "min        1.000000      0.000000      1.000000      0.000000     16.000000   \n",
      "25%     2679.250000      0.000000      2.000000      0.000000     29.000000   \n",
      "50%    10003.500000      1.000000      2.000000      0.000000     42.000000   \n",
      "75%    15141.750000      2.000000      4.000000      1.000000     55.000000   \n",
      "max    22695.000000      2.000000      8.000000      2.000000     68.000000   \n",
      "\n",
      "         Coma score     Diuresis    Platelets           HBB      d-dimer  \\\n",
      "count  10714.000000  9998.000000  9790.000000  10698.000000  9600.000000   \n",
      "mean       9.013067   278.806261    87.795812    116.170967   275.292292   \n",
      "std        3.714970    97.985526    41.851103     55.178811    43.669692   \n",
      "min        3.000000   110.000000    15.000000     20.000000   200.000000   \n",
      "25%        6.000000   194.000000    52.000000     68.000000   237.000000   \n",
      "50%        9.000000   276.000000    88.000000    117.000000   276.000000   \n",
      "75%       12.000000   364.000000   124.000000    165.000000   313.000000   \n",
      "max       15.000000   450.000000   160.000000    210.000000   350.000000   \n",
      "\n",
      "        Heart rate  HDL cholesterol  Charlson Index  Blood Glucose  \\\n",
      "count  9600.000000     10679.000000    10714.000000   10714.000000   \n",
      "mean     74.847396        52.632737       20.028094       5.015027   \n",
      "std      14.869104        10.434293       11.828445       1.399770   \n",
      "min      50.000000        35.000000        0.000000       3.000000   \n",
      "25%      62.000000        44.000000       10.000000       4.000000   \n",
      "50%      75.000000        53.000000       20.000000       5.000000   \n",
      "75%      88.000000        62.000000       30.000000       6.000000   \n",
      "max     100.000000        70.000000       40.000000       7.000000   \n",
      "\n",
      "          Insurance        salary     FT/month   Infect_Prob  \n",
      "count  9.624000e+03  1.071400e+04  9991.000000  10714.000000  \n",
      "mean   2.644919e+06  1.304713e+06     1.004604     52.280680  \n",
      "std    1.383346e+06  6.075947e+05     0.815257     10.674667  \n",
      "min    3.000000e+05  3.000000e+05     0.000000     29.289600  \n",
      "25%    1.400000e+06  8.000000e+05     0.000000     47.277426  \n",
      "50%    2.600000e+06  1.300000e+06     1.000000     49.008389  \n",
      "75%    3.800000e+06  1.800000e+06     2.000000     52.762313  \n",
      "max    5.000000e+06  2.300000e+06     2.000000     97.632000  \n"
     ]
    }
   ],
   "source": [
    "import pandas as pd\n",
    "import matplotlib.pyplot as plt\n",
    "import numpy as np\n",
    "from sklearn.metrics import mean_squared_error, r2_score\n",
    "from sklearn.model_selection import train_test_split\n",
    "from sklearn import linear_model\n",
    "\n",
    "df = pd.read_csv(\"./Train_dataset.csv\")\n",
    "\n",
    "print(df.describe())\n",
    "\n"
   ]
  },
  {
   "cell_type": "code",
   "execution_count": 101,
   "metadata": {},
   "outputs": [],
   "source": [
    "df=df.drop(['Name','people_ID','Pulmonary score'], axis = 1)\n",
    "pd.set_option('display.max_columns',None)\n",
    "df.head()\n",
    "df.dropna(subset = [\"Children\"], inplace=True)\n",
    "\n",
    "df.dropna(subset = [\"Diuresis\"], inplace=True)\n",
    "df.dropna(subset = [\"Platelets\"], inplace=True)\n",
    "df.dropna(subset = [\"HBB\"], inplace=True)\n",
    "df.dropna(subset = [\"d-dimer\"], inplace=True)\n",
    "df.dropna(subset = [\"Heart rate\"], inplace=True)\n",
    "df.dropna(subset = [\"HDL cholesterol\"], inplace=True)\n",
    "df.dropna(subset = [\"Insurance\"], inplace=True)\n",
    "df.dropna(subset = [\"FT/month\"], inplace=True)\n",
    "df.dropna(subset = [\"Infect_Prob\"], inplace=True)"
   ]
  },
  {
   "cell_type": "code",
   "execution_count": 102,
   "metadata": {},
   "outputs": [
    {
     "data": {
      "text/plain": [
       "(7055, 25)"
      ]
     },
     "execution_count": 102,
     "metadata": {},
     "output_type": "execute_result"
    }
   ],
   "source": [
    "df.shape"
   ]
  },
  {
   "cell_type": "code",
   "execution_count": 103,
   "metadata": {},
   "outputs": [],
   "source": [
    "X = df.iloc[:,df.columns != 'Infect_Prob']\n",
    "Y = df.iloc[:, 24]\n",
    "X=pd.get_dummies(X)\n",
    "\n",
    "\n",
    "#df=df.drop(['Deaths/1M',], axis = 1)\n",
    "\n",
    "\n",
    "X_train, X_test, Y_train, Y_test = train_test_split(X, Y, test_size=0.2, random_state= 0)\n",
    "\n",
    "\n",
    "\n"
   ]
  },
  {
   "cell_type": "code",
   "execution_count": 104,
   "metadata": {},
   "outputs": [
    {
     "data": {
      "text/plain": [
       "LinearRegression(copy_X=True, fit_intercept=True, n_jobs=None, normalize=False)"
      ]
     },
     "execution_count": 104,
     "metadata": {},
     "output_type": "execute_result"
    }
   ],
   "source": [
    "model = linear_model.LinearRegression()\n",
    "model.fit(X_train, Y_train)"
   ]
  },
  {
   "cell_type": "code",
   "execution_count": 105,
   "metadata": {},
   "outputs": [
    {
     "name": "stdout",
     "output_type": "stream",
     "text": [
      "                                     Coefficient\n",
      "Children                            1.942219e+00\n",
      "cases/1M                            6.407082e-01\n",
      "Deaths/1M                           4.187878e-03\n",
      "Age                                -2.030185e-02\n",
      "Coma score                          1.660642e-01\n",
      "Diuresis                            1.609062e-03\n",
      "Platelets                           1.967464e-02\n",
      "HBB                                 3.185848e-03\n",
      "d-dimer                             5.125655e-03\n",
      "Heart rate                         -6.783098e-03\n",
      "HDL cholesterol                     2.187400e-02\n",
      "Charlson Index                     -2.080347e-02\n",
      "Blood Glucose                      -1.125865e-01\n",
      "Insurance                           5.067035e-08\n",
      "salary                             -6.380179e-07\n",
      "FT/month                           -1.231595e-01\n",
      "Region_Bengaluru                    5.928499e-01\n",
      "Region_Bhubaneshwar                -2.604117e-01\n",
      "Region_Chandigarh                   2.957064e-01\n",
      "Region_Chennai                      5.533673e-01\n",
      "Region_Delhi                       -1.181512e+00\n",
      "Gender_Female                       1.104609e-01\n",
      "Gender_Male                        -1.104609e-01\n",
      "Designation_Mr                     -1.104609e-01\n",
      "Designation_Mrs                     1.104609e-01\n",
      "Married_NO                          5.720974e+00\n",
      "Married_YES                        -5.720974e+00\n",
      "Occupation_Business                -2.998733e-02\n",
      "Occupation_Cleaner                 -2.932548e-01\n",
      "Occupation_Clerk                    5.325718e-01\n",
      "Occupation_Driver                   7.681796e-02\n",
      "Occupation_Farmer                  -1.062656e+00\n",
      "Occupation_Legal                   -3.702714e-01\n",
      "Occupation_Manufacturing           -3.188127e-03\n",
      "Occupation_Researcher               6.700241e-01\n",
      "Occupation_Sales                    4.799439e-01\n",
      "Mode_transport_Car                  4.266228e-02\n",
      "Mode_transport_Public               2.272816e-01\n",
      "Mode_transport_Walk                -2.699439e-01\n",
      "comorbidity_Coronary Heart Disease -5.235788e-01\n",
      "comorbidity_Diabetes               -8.182040e-01\n",
      "comorbidity_Hypertension           -8.954923e-01\n",
      "comorbidity_None                   -5.376836e-01\n",
      "cardiological pressure_Elevated    -1.024145e+00\n",
      "cardiological pressure_Normal      -1.060500e+00\n",
      "cardiological pressure_Stage-01    -9.269359e-01\n",
      "cardiological pressure_Stage-02    -7.088643e-01\n"
     ]
    }
   ],
   "source": [
    "coeff_df = pd.DataFrame(model.coef_, X.columns, columns=['Coefficient'])\n",
    "print(coeff_df)"
   ]
  },
  {
   "cell_type": "code",
   "execution_count": 106,
   "metadata": {},
   "outputs": [
    {
     "name": "stdout",
     "output_type": "stream",
     "text": [
      "          Actual  Predicted\n",
      "8278   47.224192  45.329349\n",
      "10151  46.863360  68.024789\n",
      "8051   47.839680  64.429718\n",
      "1342   48.366641  50.215009\n",
      "10466  48.783607  52.182721\n",
      "1951   88.845120  59.824895\n",
      "8652   46.654051  44.034078\n",
      "6039   48.857120  50.490682\n",
      "9999   51.706725  50.476065\n",
      "4315   46.162863  49.817063\n"
     ]
    }
   ],
   "source": [
    "y_pred = model.predict(X_test)\n",
    "df = pd.DataFrame({'Actual': Y_test, 'Predicted': y_pred})\n",
    "print(df.head(10))"
   ]
  },
  {
   "cell_type": "code",
   "execution_count": 30,
   "metadata": {},
   "outputs": [
    {
     "data": {
      "image/png": "[encoded data removed]",
      "text/plain": [
       "<Figure size 720x576 with 1 Axes>"
      ]
     },
     "metadata": {},
     "output_type": "display_data"
    }
   ],
   "source": [
    "df.plot(kind='bar',figsize=(10,8))\n",
    "plt.grid(which='major', linestyle='-', linewidth='0.5', color='white')\n",
    "plt.grid(which='minor', linestyle=':', linewidth='0.5', color='black')\n",
    "plt.show()"
   ]
  },
  {
   "cell_type": "code",
   "execution_count": 107,
   "metadata": {},
   "outputs": [],
   "source": [
    "# Root Mean Squared Deviation\n",
    "rmsd = np.sqrt(mean_squared_error(Y_test, y_pred))      # Lower the rmse(rmsd) is, the better the fit\n",
    "r2_value = r2_score(Y_test, y_pred)                     # The closer towards 1, the better the fit\n"
   ]
  },
  {
   "cell_type": "code",
   "execution_count": 108,
   "metadata": {},
   "outputs": [
    {
     "name": "stdout",
     "output_type": "stream",
     "text": [
      "Y-Intercept: \n",
      " 49.296566576804956\n",
      "Root Mean Square Error(rmsd) \n",
      " 9.392341817370207\n",
      "R^2 Value: \n",
      " 0.23202976435518352\n"
     ]
    }
   ],
   "source": [
    "print(\"Y-Intercept: \\n\", model.intercept_)\n",
    "print(\"Root Mean Square Error(rmsd) \\n\", rmsd)\n",
    "print(\"R^2 Value: \\n\", r2_value)\n"
   ]
  },
  {
   "cell_type": "code",
   "execution_count": null,
   "metadata": {},
   "outputs": [],
   "source": []
  }
 ],
 "metadata": {
  "kernelspec": {
   "display_name": "Python 3",
   "language": "python",
   "name": "python3"
  },
  "language_info": {
   "codemirror_mode": {
    "name": "ipython",
    "version": 3
   },
   "file_extension": ".py",
   "mimetype": "text/x-python",
   "name": "python",
   "nbconvert_exporter": "python",
   "pygments_lexer": "ipython3",
   "version": "3.6.5"
  }
 },
 "nbformat": 4,
 "nbformat_minor": 2
}
